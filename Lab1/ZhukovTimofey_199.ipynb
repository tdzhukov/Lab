{
 "cells": [
  {
   "cell_type": "markdown",
   "metadata": {},
   "source": [
    "# Линейная алгебра. Лабораторная работа 1, осень 2019"
   ]
  },
  {
   "cell_type": "markdown",
   "metadata": {},
   "source": [
    "В этой лабораторной работе вы познакомитесь со средой Jupyter Notebook и библиотеками numpy и scipy."
   ]
  },
  {
   "cell_type": "markdown",
   "metadata": {},
   "source": [
    "## Часть 1. Библиотеки"
   ]
  },
  {
   "cell_type": "markdown",
   "metadata": {},
   "source": [
    "В этой лабораторной работе вам понадобятся три библиотеки:\n",
    "\n",
    "- `numpy` - основная библиотека для работы с матрицами;\n",
    "- `scipy`, а точнее модуль `scipy.linalg`, содержащий множество функций линейной алгебры;\n",
    "- `matplotlib` - графическая библиотека\n",
    "\n",
    "Подключить их можно следующим образом:"
   ]
  },
  {
   "cell_type": "code",
   "execution_count": 8,
   "metadata": {},
   "outputs": [],
   "source": [
    "# Запустите этот код\n",
    "import numpy as np\n",
    "\n",
    "import scipy.linalg as sla\n",
    "\n",
    "import matplotlib.pyplot as plt\n",
    "%matplotlib inline"
   ]
  },
  {
   "cell_type": "markdown",
   "metadata": {},
   "source": [
    "Теперь вы можете позвать, скажем, функцию `scipy.linalg.det()` с помощью кода `sla.det()`, а функцию `numpy.exp()` - с помощью кода `np.exp()`."
   ]
  },
  {
   "cell_type": "markdown",
   "metadata": {},
   "source": [
    "**Основные объекты и операции линейной алгебры в NumPy и SciPy:**"
   ]
  },
  {
   "cell_type": "markdown",
   "metadata": {},
   "source": [
    "Основной объект, с которым вам придётся работать и в этой, и в следующих лабораторных - это, безусловно, матрицы. В библиотеке `numpy` они представлены классом `numpy.ndarray`. Матрицу можно создать из двумерного (а на самом деле и не только двумерного) массива следующим образом:"
   ]
  },
  {
   "cell_type": "code",
   "execution_count": 3,
   "metadata": {},
   "outputs": [
    {
     "name": "stdout",
     "output_type": "stream",
     "text": [
      "[[1 2 3]\n",
      " [4 5 6]]\n",
      "(2, 3)\n"
     ]
    }
   ],
   "source": [
    "# Запустите этот код\n",
    "A = np.array([[1, 2, 3], [4, 5, 6]])\n",
    "\n",
    "print(A)\n",
    "print(A.shape) # пара (число строк, число столбцов)"
   ]
  },
  {
   "cell_type": "markdown",
   "metadata": {},
   "source": [
    "Обратите внимание, что матрица заполняется *по строкам*.\n",
    "\n",
    "Есть и много других конструкторов матриц. Например, единичная матрица размера $n\\times n$ создаётся с помощью функции `numpy.eye(n)`. Со всем многообразием конструкторов можно ознакомиться [на этой странице](https://docs.scipy.org/doc/numpy-1.10.1/reference/routines.array-creation.html)."
   ]
  },
  {
   "cell_type": "markdown",
   "metadata": {},
   "source": [
    "Зачастую бывает нужно получить доступ к подматрицам данной матрицы, и numpy предоставляет множество удобных средств, как это сделать (называется slicing):\n",
    "- элемент с номером `(i,j)`: `A[i,j]`\n",
    "- i-я строка матрицы: `A[i,:]`\n",
    "- j-й столбец матрицы: `A[:,j]`\n",
    "\n",
    "**Внимание!** Оба варианта, и `A[i,:]`, и `A[:,j]` дают не строку или столбец, а одномерный вектор. Если вы хотите получить вектор-строку или вектор-столбец соответственно, используйте вот такой синтаксис: `A[i:i+1,:]`, и `A[:,j:j+1]`\n",
    "- строки с нулевой по i-ю: `A[:i+1,:]`\n",
    "- столбцы с j-го по последний: `A[:,j:]`\n",
    "- строки с i-й по k-ю: `A[i:k,:]`\n",
    "\n",
    "В некоторых случаях нужно получить доступ к (прямоугольной) подматрице, элементы которой находятся на пересечении строк из списка `rows` и столбцов `columns`. В этом случае `A[rows, columns]` даст не то, что вы ожидаете (можете попробовать это сделать сами и увидеть, что получится; только возьмите `rows` и `columns` одного размера). Справиться с этой задачей позволяет код `A[np.ix_(rows, columns)]`"
   ]
  },
  {
   "cell_type": "markdown",
   "metadata": {},
   "source": [
    "*Умножение матриц* производится с помощью оператора `np.dot()`. Есть два варианта написания: `A.dot(B)` и `np.dot(A, B)`.\n",
    "\n",
    "Обычные знаки арифметических действий (`+`, `-`, `*`) зарезервированы для поэлементных операций. Например, `A * B` - это матрица, элементами которой являются произведения $A_{ij}B_{ij}$. Помимо этих есть и множество других поэлементных операций. Например, `numpy.exp(A)` - это матрица, элементами которой являются экспоненты элементов матрицы `A`."
   ]
  },
  {
   "cell_type": "markdown",
   "metadata": {},
   "source": [
    "Чтобы получить матрицу, *транспонированную* к матрице `A`, напишите просто `A.T`. "
   ]
  },
  {
   "cell_type": "markdown",
   "metadata": {},
   "source": [
    "В некоторых случаях бывает нужно создавать *случайные матрицы*: например, при проведении экспериментов или для инициализации итеративных методов. Средства для этого предоставляет пакет [numpy.random](https://docs.scipy.org/doc/numpy/reference/routines.random.html). Так, `np.random.rand(m,n)` - это матрица $m\\times n$, элементы которой независимо выбраны из равномерного распределения на интервале `[0;1)` "
   ]
  },
  {
   "cell_type": "markdown",
   "metadata": {},
   "source": [
    "Для *решения систем линейных уравнений* в пакете `scipy.linalg` есть множество методов, рассмотрение которых выходит за пределы курса линейной алгебры. Мы вам пока предлагаем пользоваться функцией `scipy.linalg.solve`, основанной на методе Гаусса. Отметим, что `scipy.linalg.solve(A, B)` выдаёт решение уравнения $AX = B$ (или ошибку), где $B$ может быть как вектором, так и матрицей.\n",
    "\n",
    "Найти обратную матрицу для матрицы $A$ можно с помощью функции `sla.inv(A)`."
   ]
  },
  {
   "cell_type": "markdown",
   "metadata": {},
   "source": [
    "**Копирование сложных объектов в Python**"
   ]
  },
  {
   "cell_type": "markdown",
   "metadata": {},
   "source": [
    "Когда вы делаете присваивание каких-то сложных объектов, как правило оно происходит по ссылке. Например, код\n",
    "```\n",
    "B = A\n",
    "B[0,0] = 10\n",
    "```\n",
    "приведёт к изменению матрицы `A`.\n",
    "\n",
    "Не попадайтесь в эту ловушку! Если вы хотите работать с копией как с независимой матрицей, используйте метод `copy()`:\n",
    "```\n",
    "B = A.copy()\n",
    "```"
   ]
  },
  {
   "cell_type": "markdown",
   "metadata": {},
   "source": [
    "**Где искать помощь**"
   ]
  },
  {
   "cell_type": "markdown",
   "metadata": {},
   "source": [
    "Библиотеки `numpy` и `scipy` снабжены прекрасной документацией. Если у вас возникают вопросы о том, как работает та или иная функция (или даже как называется функция, выполняющая то, что вам нужно), вы почти всегда можете найти там ответы.\n",
    "\n",
    "[Ссылка на документацию пакета scipy.linalg](https://docs.scipy.org/doc/scipy-0.18.1/reference/linalg.html)"
   ]
  },
  {
   "cell_type": "markdown",
   "metadata": {},
   "source": [
    "**И всё-таки задание**"
   ]
  },
  {
   "cell_type": "markdown",
   "metadata": {},
   "source": [
    "В качестве первого задания мы попросим вас отыскать соответствующие функции в библиотеке и сделать следующее:\n",
    "\n",
    "- создайте нулевую матрицу $Z$ размера $3\\times4$;\n",
    "\n",
    "- создайте диагональную матрицу $5\\times5$ с диагональными элементами 1, 2, 3, 4 и 5;\n",
    "\n",
    "- найдите её след (не силою мысли, а с помощью библиотечных функций, конечно);\n",
    "\n",
    "- найдите обратную к ней матрицу;\n",
    "\n",
    "- сгенерируйте случайную матрицу $X$ размера $4\\times5$;\n",
    "\n",
    "- найдите определитель подматрицы матрицы $X$, расположенной на пересечении 2 и 3 строки и 1 и 2 столбца; считаем, что строки и столбцы нумеруются с единицы (используйте slicing!). Такой определитель называется **минором** матрицы $X$;\n",
    "\n",
    "- найдите произведение $X^TX$.\n",
    "\n",
    "Пожалуйста, каждый пункт делайте в новом блоке и не забывайте распечатывать результаты."
   ]
  },
  {
   "cell_type": "markdown",
   "metadata": {
    "collapsed": true
   },
   "source": [
    "А сейчас я создам нулевую матрицу"
   ]
  },
  {
   "cell_type": "code",
   "execution_count": 39,
   "metadata": {
    "scrolled": true
   },
   "outputs": [
    {
     "name": "stdout",
     "output_type": "stream",
     "text": [
      "[[0. 0. 0. 0.]\n",
      " [0. 0. 0. 0.]\n",
      " [0. 0. 0. 0.]]\n"
     ]
    }
   ],
   "source": [
    "Z = np.zeros([3, 4])\n",
    "print(Z)"
   ]
  },
  {
   "cell_type": "markdown",
   "metadata": {},
   "source": [
    "Диагональная матрица "
   ]
  },
  {
   "cell_type": "code",
   "execution_count": 50,
   "metadata": {},
   "outputs": [
    {
     "name": "stdout",
     "output_type": "stream",
     "text": [
      "[[1 0 0 0 0]\n",
      " [0 2 0 0 0]\n",
      " [0 0 3 0 0]\n",
      " [0 0 0 4 0]\n",
      " [0 0 0 0 5]]\n"
     ]
    }
   ],
   "source": [
    "A = np.diag([1, 2, 3, 4, 5])\n",
    "print(A)"
   ]
  },
  {
   "cell_type": "markdown",
   "metadata": {},
   "source": [
    "След матрицы A"
   ]
  },
  {
   "cell_type": "code",
   "execution_count": 41,
   "metadata": {},
   "outputs": [
    {
     "name": "stdout",
     "output_type": "stream",
     "text": [
      "15\n"
     ]
    }
   ],
   "source": [
    "print(A.trace())"
   ]
  },
  {
   "cell_type": "markdown",
   "metadata": {},
   "source": [
    "Обратная матрица к A"
   ]
  },
  {
   "cell_type": "code",
   "execution_count": 42,
   "metadata": {},
   "outputs": [
    {
     "name": "stdout",
     "output_type": "stream",
     "text": [
      "[[ 1.          0.          0.          0.         -0.        ]\n",
      " [ 0.          0.5         0.          0.         -0.        ]\n",
      " [ 0.          0.          0.33333333  0.         -0.        ]\n",
      " [ 0.          0.          0.          0.25       -0.        ]\n",
      " [ 0.          0.          0.          0.          0.2       ]]\n"
     ]
    }
   ],
   "source": [
    "print(sla.inv(A))"
   ]
  },
  {
   "cell_type": "markdown",
   "metadata": {},
   "source": [
    "Случайная матрица"
   ]
  },
  {
   "cell_type": "code",
   "execution_count": 43,
   "metadata": {},
   "outputs": [
    {
     "name": "stdout",
     "output_type": "stream",
     "text": [
      "[[0.38276884 0.79357044 0.76702353 0.21751066 0.43471587]\n",
      " [0.19369995 0.28969006 0.68873189 0.24030543 0.33148828]\n",
      " [0.16240611 0.5710208  0.1000684  0.13778441 0.6599215 ]\n",
      " [0.53320347 0.09045836 0.10797351 0.01261112 0.01211624]]\n"
     ]
    }
   ],
   "source": [
    "X = np.random.sample((4, 5))\n",
    "print(X)"
   ]
  },
  {
   "cell_type": "markdown",
   "metadata": {},
   "source": [
    "Минор матрицы X"
   ]
  },
  {
   "cell_type": "code",
   "execution_count": 44,
   "metadata": {},
   "outputs": [
    {
     "name": "stdout",
     "output_type": "stream",
     "text": [
      "0.06355926409437107\n"
     ]
    }
   ],
   "source": [
    "print(sla.det(X[1:3, 0:2]))"
   ]
  },
  {
   "cell_type": "markdown",
   "metadata": {},
   "source": [
    "Произведение $X^TX$"
   ]
  },
  {
   "cell_type": "code",
   "execution_count": 45,
   "metadata": {},
   "outputs": [
    {
     "name": "stdout",
     "output_type": "stream",
     "text": [
      "[[0.49471333 0.50083696 0.5008236  0.15890478 0.34424065]\n",
      " [0.50083696 1.04792184 0.87511422 0.32204267 0.81893144]\n",
      " [0.5008236  0.87511422 1.08434867 0.34749134 0.62908937]\n",
      " [0.15890478 0.32204267 0.34749134 0.12420117 0.26529347]\n",
      " [0.34424065 0.81893144 0.62908937 0.26529347 0.73450556]]\n"
     ]
    }
   ],
   "source": [
    "print(X.T.dot(X))"
   ]
  },
  {
   "cell_type": "markdown",
   "metadata": {},
   "source": [
    "## Часть 2. Время\n",
    "\n",
    "Питон мотивирует пользоваться библиотечными функциями, когда они доступны, а не писать собственные. Библиотечные функции основаны на современных алгоритмах, обычно пишутся на более эффективных языках, таких как C++ или Fortran, а, кроме того, оптимизированы для работы на многопроцессорных устройствах, так что обогнать эти решения просто так вы не сможете.\n",
    "\n",
    "Мы предлагаем вам убедиться в этом самим. Напишите функцию `my_det`, которая вычисляла бы определитель матрицы с помощью элементарных преобразований над строками. Функция должна выкидывать `ValueError` в случаях, если матрица не является квадратной."
   ]
  },
  {
   "cell_type": "code",
   "execution_count": 9,
   "metadata": {},
   "outputs": [],
   "source": [
    " def my_det(X):\n",
    "    '''\n",
    "    Parameters\n",
    "    ----------\n",
    "    X : array_like\n",
    "    \n",
    "    Returns\n",
    "    -------\n",
    "    det : float\n",
    "        Determinant of `a`.\n",
    "    '''\n",
    "    \n",
    "    # Your code here\n",
    "    if X.shape[0] != X.shape[1]:\n",
    "        raise ValueError\n",
    "    sgn, n = 1, X.shape[0]\n",
    "    for i in range(n):\n",
    "        for k in range(i, n):\n",
    "            if X[k, i] != 0:\n",
    "                break\n",
    "        if k != i:\n",
    "            tmp = X[i, :].copy()\n",
    "            X[i, :] = X[k, :].copy()\n",
    "            X[k, :] = tmp\n",
    "            sgn *= (-1) ** (k - i + 1)\n",
    "        for j in range(1, n - i):\n",
    "            X[i + j, :] -= X[i, :] / X[i, i] * X[i + j, i]\n",
    "    det = np.prod(X.diagonal()) * sgn\n",
    "    return det"
   ]
  },
  {
   "cell_type": "markdown",
   "metadata": {},
   "source": [
    "Простая проверка:"
   ]
  },
  {
   "cell_type": "code",
   "execution_count": 10,
   "metadata": {},
   "outputs": [
    {
     "name": "stdout",
     "output_type": "stream",
     "text": [
      "[[0. 0. 1.]\n",
      " [0. 1. 0.]\n",
      " [1. 0. 0.]]\n",
      "-1.0\n"
     ]
    }
   ],
   "source": [
    "# Запустите этот блок кода\n",
    "X = np.array([[0, 0, 1], [0, 1, 0], [1, 0, 0]], dtype=float)\n",
    "print(X)\n",
    "print(my_det(X))"
   ]
  },
  {
   "cell_type": "markdown",
   "metadata": {},
   "source": [
    "На случай, если нам просто повезло с этой матрицей, имеет смысл написать чуть более хитрые тесты. Мы сгенерируем несколько случайных матриц $8\\times8$ с помощью функции `numpy.random.rand` и сравним ответ, выдаваемый нашей функцией, с настоящим определителем (результатом работы библиотечной функции `scipy.linalg.det`):"
   ]
  },
  {
   "cell_type": "code",
   "execution_count": 11,
   "metadata": {},
   "outputs": [],
   "source": [
    "# Запустите этот блок кода\n",
    "for _ in range(10):\n",
    "    X = np.random.rand(8,8)\n",
    "    if np.abs(my_det(X) - sla.det(X)) > 1e-6:\n",
    "        print('FAILED')"
   ]
  },
  {
   "cell_type": "markdown",
   "metadata": {},
   "source": [
    "Если вы ни разу не получили `FAILED`, то ваша функция работает правильно."
   ]
  },
  {
   "cell_type": "markdown",
   "metadata": {},
   "source": [
    "Теперь давайте сравним скорость работы вашей функции и библиотечной функции `scipy.linalg.det`. В Питоне есть несколько способов измерения времени; мы воспользуемся декоратором `%timeit`. Будучи написан перед функцией, он запускает её некоторое количество раз, выбирает три случайных запуска и возвращает длительность самого быстрого из них. Модификатор `-o` между декоратором и функцией позволяет сохранять результаты работы декоратора в переменную.\n",
    "\n",
    "Приготовьтесь, что следующий блок может работать сравнительно долго."
   ]
  },
  {
   "cell_type": "code",
   "execution_count": 34,
   "metadata": {},
   "outputs": [
    {
     "name": "stdout",
     "output_type": "stream",
     "text": [
      "26.8 µs ± 3.71 µs per loop (mean ± std. dev. of 7 runs, 10000 loops each)\n",
      "522 µs ± 25.2 µs per loop (mean ± std. dev. of 7 runs, 1000 loops each)\n",
      "182 µs ± 2.31 µs per loop (mean ± std. dev. of 7 runs, 10000 loops each)\n",
      "52.2 ms ± 726 µs per loop (mean ± std. dev. of 7 runs, 10 loops each)\n",
      "17.8 ms ± 366 µs per loop (mean ± std. dev. of 7 runs, 100 loops each)\n",
      "8.13 s ± 80 ms per loop (mean ± std. dev. of 7 runs, 1 loop each)\n"
     ]
    },
    {
     "data": {
      "text/plain": [
       "<matplotlib.legend.Legend at 0x1f84a407288>"
      ]
     },
     "execution_count": 34,
     "metadata": {},
     "output_type": "execute_result"
    },
    {
     "data": {
      "image/png": "[encoded data removed]",
      "text/plain": [
       "<Figure size 432x288 with 1 Axes>"
      ]
     },
     "metadata": {
      "needs_background": "light"
     },
     "output_type": "display_data"
    }
   ],
   "source": [
    "# Запустите этот блок кода\n",
    "lib_times = []\n",
    "my_times = []\n",
    "dimensions = [10, 100, 1000]\n",
    "for dim in dimensions:\n",
    "    A = np.random.rand(dim, dim)\n",
    "    res_lib = %timeit -o sla.det(A)\n",
    "    lib_times.append(res_lib.best)\n",
    "    res_my = %timeit -o my_det(A)\n",
    "    my_times.append(res_my.best)    \n",
    "\n",
    "plt.plot(dimensions, lib_times, color='blue', label='Library function')\n",
    "plt.plot(dimensions, my_times, color='red', label='My function')\n",
    "plt.title('My function vs library function, log y scale')\n",
    "plt.ylabel('Time')\n",
    "plt.xlabel('Matrix dimension')\n",
    "plt.legend()"
   ]
  },
  {
   "cell_type": "markdown",
   "metadata": {},
   "source": [
    "У вас должны были получиться графики, показывающие, как растёт с ростом размерности матрицы время вычисления определителя. Поскольку они вышли не больно-то красивыми, мы нарисуем их в *логарифмическом масштабе* по оси у:"
   ]
  },
  {
   "cell_type": "code",
   "execution_count": 35,
   "metadata": {},
   "outputs": [
    {
     "data": {
      "text/plain": [
       "<matplotlib.legend.Legend at 0x1f84a47c448>"
      ]
     },
     "execution_count": 35,
     "metadata": {},
     "output_type": "execute_result"
    },
    {
     "data": {
      "image/png": "[encoded data removed]",
      "text/plain": [
       "<Figure size 432x288 with 1 Axes>"
      ]
     },
     "metadata": {
      "needs_background": "light"
     },
     "output_type": "display_data"
    }
   ],
   "source": [
    "# Запустите этот блок кода\n",
    "plt.semilogy(dimensions, lib_times, color='blue', label='Library function')\n",
    "plt.semilogy(dimensions, my_times, color='red', label='My function')\n",
    "plt.title('My function vs library function, log y scale')\n",
    "plt.ylabel('Time')\n",
    "plt.xlabel('Matrix dimension')\n",
    "plt.legend()"
   ]
  },
  {
   "cell_type": "markdown",
   "metadata": {},
   "source": [
    "Вы можете убедиться, что библиотечная функция работает *гораздо* быстрее."
   ]
  },
  {
   "cell_type": "markdown",
   "metadata": {},
   "source": [
    "## Часть 3. Точность\n",
    "\n",
    "Наверняка вы уже что-то знаете про floating point arithmetics и связанные с этим трудности и понимаете, что на компьютере вычисления с вещественными числами производятся лишь с ограниченной точностью. "
   ]
  },
  {
   "cell_type": "markdown",
   "metadata": {},
   "source": [
    "В качестве первого примера, показывающего различие между длинной арифметикой целых чисел и floating point arithmetics, предлагаем вам перемножить две пары матриц:\n",
    "\n",
    "$$\n",
    "\\begin{pmatrix}\n",
    "1 & 0\\\\\n",
    "10^{20} & 1\n",
    "\\end{pmatrix}\n",
    "\\cdot\n",
    "\\begin{pmatrix}\n",
    "10^{-20} & 1\\\\\n",
    "0 & 1 - 10^{20}\n",
    "\\end{pmatrix}\n",
    "$$\n",
    "и\n",
    "$$\n",
    "\\begin{pmatrix}\n",
    "1. & 0.\\\\\n",
    "10.^{20} & 1.\n",
    "\\end{pmatrix}\n",
    "\\cdot\n",
    "\\begin{pmatrix}\n",
    "10.^{-20} & 1.\\\\\n",
    "0. & 1. - 10.^{20}\n",
    "\\end{pmatrix}\n",
    "$$\n",
    "Во втором случае мы специально указали Питону (поставив везде десятичные точки), что хотим работать не с целыми числами, а с числами с плавающей точкой. Посмотрим, получатся ли одинаковые ответы:"
   ]
  },
  {
   "cell_type": "code",
   "execution_count": 154,
   "metadata": {},
   "outputs": [
    {
     "name": "stdout",
     "output_type": "stream",
     "text": [
      "[[1e-20 1]\n",
      " [1.0 1]]\n"
     ]
    }
   ],
   "source": [
    "# Your code here\n",
    "x1 = np.array([[1, 0], [10 ** 20, 1]])\n",
    "x2 = np.array([[10 ** (-20), 1], [0, 1 - 10 ** 20]])\n",
    "print(x1.dot(x2))"
   ]
  },
  {
   "cell_type": "code",
   "execution_count": 155,
   "metadata": {},
   "outputs": [
    {
     "name": "stdout",
     "output_type": "stream",
     "text": [
      "[[1.e-20 1.e+00]\n",
      " [1.e+00 0.e+00]]\n"
     ]
    }
   ],
   "source": [
    "x3 = np.array([[1, 0], [10 ** 20, 1]], dtype=float)\n",
    "x4 = np.array([[10 ** (-20), 1], [0, 1 - 10 ** 20]], dtype=float)\n",
    "print(x3.dot(x4))"
   ]
  },
  {
   "cell_type": "markdown",
   "metadata": {},
   "source": [
    "И какой из них правильный?\n",
    "\n",
    "---\n",
    "**Первый вариант (произведение в целых числах)**\n",
    "\n",
    "$$\n",
    "\\begin{pmatrix}\n",
    "1 & 0\\\\\n",
    "10^{20} & 1\n",
    "\\end{pmatrix}\n",
    "\\cdot\n",
    "\\begin{pmatrix}\n",
    "10^{-20} & 1\\\\\n",
    "0 & 1 - 10^{20}\n",
    "\\end{pmatrix}\n",
    "=\n",
    "\\begin{pmatrix}\n",
    "10^{-20} & 1\\\\\n",
    "1 & 1\n",
    "\\end{pmatrix}\n",
    "$$\n",
    "\n",
    "---"
   ]
  },
  {
   "cell_type": "markdown",
   "metadata": {},
   "source": [
    "Впрочем, и с целыми числами тоже не всегда всё хорошо. Напишите функцию, генерирующую *матрицу Паскаля* заданной размерности $n$, то есть матрицу $P$, в которой $P_{ij} = C_{i+j}^i$. В этом задании нельзя пользоваться библиотечной функцией `scipy.linalg.pascal` или её аналогами из других библиотек. Обратите внимание, что использование факториалов крайне нежелательно, так как быстро приведёт к переполнению.\n",
    "\n",
    "В этом задании вы можете использовать цикл ``for``."
   ]
  },
  {
   "cell_type": "code",
   "execution_count": 119,
   "metadata": {},
   "outputs": [],
   "source": [
    "def my_pascal(dim):\n",
    "    '''\n",
    "    Мы создали для вас матрицу из нулей размера dim x dim,\n",
    "    но вы можете ей не пользоваться, если не хотите\n",
    "    '''\n",
    "    P = np.zeros((dim, dim))\n",
    "    # Your code here\n",
    "    P[0, :], P[:, 0] = 1, 1\n",
    "    for i in range(1, dim):\n",
    "        for j in range(dim):\n",
    "            P[i][j] = P[i][j - 1] + P[i - 1][j]\n",
    "    return P"
   ]
  },
  {
   "cell_type": "markdown",
   "metadata": {},
   "source": [
    "Чему равен её определитель? Обязательно объясните свой ответ.\n",
    "\n",
    "----\n",
    "**Определитель равен единице**\n",
    "\n",
    "Запишем треугольник Паскаля в виде верхнетреугольной матрицы и нижнетреугольной, а после найдём их произведение (для примера возьмём размеры 4x4) :\n",
    "\n",
    "$$\n",
    "\\begin{pmatrix}\n",
    "1 & 1 & 1 & 1\\\\\n",
    "0 & 1 & 2 & 3\\\\\n",
    "0 & 0 & 1 & 3\\\\\n",
    "0 & 0 & 0 & 1\n",
    "\\end{pmatrix}\n",
    "\\cdot\n",
    "\\begin{pmatrix}\n",
    "1 & 0 & 0 & 0\\\\\n",
    "1 & 1 & 0 & 0\\\\\n",
    "1 & 2 & 1 & 0\\\\\n",
    "1 & 3 & 3 & 1\n",
    "\\end{pmatrix}\n",
    "=\n",
    "\\begin{pmatrix}\n",
    "1 & 1 & 1 & 1\\\\\n",
    "1 & 2 & 3 & 4\\\\\n",
    "1 & 3 & 6 & 10\\\\\n",
    "1 & 4 & 10 & 20\n",
    "\\end{pmatrix}\n",
    "$$\n",
    "\n",
    "Получается, что произведение верхнетреугольной и нижнетреугольной дают матрицу Паскаля, тогда по свойству определителя det(AB) = det(A) * det(B), где определители A и B равны единицы $\\Rightarrow$ и определитель матрицы Паскаля всегда равен единице.\n",
    "\n",
    "---"
   ]
  },
  {
   "cell_type": "markdown",
   "metadata": {},
   "source": [
    "А теперь вычислите определитель матрицы Паскаля $30\\times30$ с помощью библиотечной функции `scipy.linalg.det`:"
   ]
  },
  {
   "cell_type": "code",
   "execution_count": 120,
   "metadata": {},
   "outputs": [
    {
     "name": "stdout",
     "output_type": "stream",
     "text": [
      "1.0299188904699096e+48\n"
     ]
    }
   ],
   "source": [
    "# Your code here\n",
    "print(sla.det(my_pascal(30)))"
   ]
  },
  {
   "cell_type": "markdown",
   "metadata": {},
   "source": [
    "Разница заметна невооружённым взглядом!"
   ]
  },
  {
   "cell_type": "markdown",
   "metadata": {},
   "source": [
    "## Часть 4. Матричные вычисления"
   ]
  },
  {
   "cell_type": "markdown",
   "metadata": {},
   "source": [
    "Вы уже видели, что использования циклов (и самописных вычислений в целом) в Питоне лучше по возможности избегать, и важно уметь находить способы делать всё библиотечными средствами.\n",
    "\n",
    "В качестве примера рассмотрим две задачи:\n",
    "\n",
    "**1.** Предположим, нужно вычислить суммы элементов в каждой строке матрицы `A`. Ясно, что можно написать простую функцию с двумя циклами, которая это посчитает, но так лучше не делать. Правильный способ такой:\n",
    "```\n",
    "A.sum(axis=1)\n",
    "```\n",
    "Параметр `axis=1` означает, что суммы берутся по строкам. Если вы хотите просуммировать по столбцам, укажите `axis=0`. Если вообще пропустить параметр `axis` (вызвать `A.sum()`), то функция вернёт сумму *всех* элементов матрицы.\n",
    "\n",
    "**2.** Теперь допустим, что нам нужно каждый столбец матрицы `A` умножить на некоторое число. Более точно, пусть у нас есть (одномерный) вектор `w = np.array([w_1,...,w_n])`, и мы должны `i`-й столбец `A` умножить на число `w_i`. Опять же, это можно сделать в пару циклов, но лучше использовать операцию поэлементного умножения:\n",
    "```\n",
    "A * w.reshape((1,n))\n",
    "```\n",
    "Оператор `reshape` нужен для того, чтобы из одномерного вектора сделать вектор-строку.\n",
    "\n",
    "Аналогично если на числа `w_1,...,w_n` умножаются *строки* матрицы, нужно превратить `w` в вектор-столбец:\n",
    "```\n",
    "A * w.reshape((n,1))\n",
    "```"
   ]
  },
  {
   "cell_type": "markdown",
   "metadata": {},
   "source": [
    "Дальше вам будет предложено попрактиковаться в матричных вычислениях. В следующих трёх заданиях нельзя пользоваться циклами, а также конструкциями `map` и `reduce` и им подобными; вместо этого постарайтесь свести всё к матричным операциям из `numpy` (но, опять же, не `np.vectorize` или чему-то подобному). Чтобы убедиться, что получилось именно то, что нужно, пишите собственные тесты со случайными матрицами."
   ]
  },
  {
   "cell_type": "markdown",
   "metadata": {},
   "source": [
    "**Задание 4.1** Напишите функцию `prod_and_sq_sum(A)`, вычисляющую произведение и сумму квадратов диагональных элементов квадратной матрицы `A`."
   ]
  },
  {
   "cell_type": "code",
   "execution_count": 133,
   "metadata": {},
   "outputs": [],
   "source": [
    "def prod_and_sq_sum(A):\n",
    "    prod = np.prod(A.diagonal())\n",
    "    sqSum = (A * A).trace()\n",
    "    return prod, sqSum\n",
    "#N = np.array([[1, 2, 3], [4, 5, 6], [7, 8, 9]])\n",
    "#print(prod_and_sq_sum(N))"
   ]
  },
  {
   "cell_type": "markdown",
   "metadata": {},
   "source": [
    "**Задание 4.2** Для матриц `A` и `B` размера $m\\times n$ обозначим через $a_1,\\ldots,a_n$ и $b_1,\\ldots,b_n$ соответственно их столбцы. Напишите функцию `f(A, B, k)`, вычисляющую\n",
    "\n",
    "$$\\sum_{i=1}^{\\min(k,m)}a_ib_i^T$$"
   ]
  },
  {
   "cell_type": "code",
   "execution_count": 141,
   "metadata": {},
   "outputs": [],
   "source": [
    "def f(A, B, k):\n",
    "    k = min(A.shape[0], k)\n",
    "    res = np.dot(A[:, :k + 1], B[:, :k + 1].T)\n",
    "    return res\n",
    "#N, M, k = np.array([[1, 2, 3], [4, 5, 6], [7, 8, 9]]), np.array([[1, 2, 3], [4, 5, 6], [7, 8, 9]]), 1\n",
    "#print(f(N, M, k))"
   ]
  },
  {
   "cell_type": "markdown",
   "metadata": {},
   "source": [
    "**Задание 4.3** Напишите функцию `get_diag(A,B)`, принимающую две квадратных матрицы матрицы `A` и `B` одного размера и возвращающую вектор диагональных элементов произведения `AB`, не вычисляя произведение целиком. "
   ]
  },
  {
   "cell_type": "code",
   "execution_count": 142,
   "metadata": {},
   "outputs": [],
   "source": [
    "def get_diag(A, B):\n",
    "    C = A * B.T\n",
    "    res = np.sum(C, axis=1)\n",
    "    return res\n",
    "#N, M = np.array([[1, 2, 3], [4, 5, 6], [7, 8, 9]]), np.array([[1, 2, 3], [4, 5, 6], [7, 8, 9]])\n",
    "#print(get_diag(N, M))"
   ]
  },
  {
   "cell_type": "markdown",
   "metadata": {},
   "source": [
    "## Часть 5. Комплексные числа и геометрия"
   ]
  },
  {
   "cell_type": "markdown",
   "metadata": {},
   "source": [
    "У вас уже была возможность убедиться, что многие операции над комплексными числами имеют наглядную геометрическую интерпретацию. В этом задании вам будет предложено этим воспользоваться.\n",
    "\n",
    "В Python число $i$ (мнимая единица) обозначено через `1j`. Так, число $0,5 + 1,2i$ будет иметь вид `0.5 + 1.2 * 1j`.\n",
    "\n",
    "При выполнении задания вы должны работать с точками плоскости как с комплексными числами. Любые преобразования должны быть реализованы с помощью операций над комплексными числами: сложения, вычитания, умножения, деления, возведения в степень и комплексного сопряжения.\n",
    "\n",
    "**Задание 5.1** Напишите функцию `shrink_rotate`, которая принимает на вход:\n",
    "- заданную в виде комплексного числа точку $X$, которую мы подвергаем преобразованию,\n",
    "- заданную в виде комплексного числа точку $A$, \n",
    "- действительный коэффициент `coef`,\n",
    "- угол `alpha`, заданный в радианах\n",
    "\n",
    "и осуществляет следующее преобразование: мы берём вектор $AX$, умножаем его `coef`, поворачиваем вокруг точки $A$ на угол `alpha` против часовой стрелки, после чего возвращаем конец полученного вектора. Ниже (левая картинка) мы приводим иллюстрацию действия этого преобразования:\n",
    "\n",
    "<img src=\"ShrinkRotate.png\">\n",
    "\n",
    "**Задание 5.2** Напишите функцию `shrink_rotate_conj`, которая сначала делает то же самое, что и `shrink_rotate`, а после этого отражает вектор $AY$ относительно горизонтальной прямой, проходящей через точку $A$, и возвращает точку $Y'$ (см. правую часть рисунка).\n",
    "\n",
    "**Задание 5.3** Напишите функцию `geometric_inverse`, которая принимает на вход:\n",
    "- заданную в виде комплексного числа точку $X$, которую мы подвергаем преобразованию,\n",
    "- заданную в виде комплексного числа точку $A$, \n",
    "- положительное действительное число $r$\n",
    "\n",
    "и осуществляет инверсию точки $X$ относительно окружности с центром $A$ радиуса $r$. [Определение инверсии вы можете посмотреть здесь](https://ru.wikipedia.org/wiki/%D0%98%D0%BD%D0%B2%D0%B5%D1%80%D1%81%D0%B8%D1%8F_(%D0%B3%D0%B5%D0%BE%D0%BC%D0%B5%D1%82%D1%80%D0%B8%D1%8F))."
   ]
  },
  {
   "cell_type": "code",
   "execution_count": 128,
   "metadata": {},
   "outputs": [],
   "source": [
    "import math\n",
    "def shrink_rotate(x, a, coef=1., angle=0.):\n",
    "    # Your code here\n",
    "    vect = x - a\n",
    "    vect *= coef\n",
    "    rotation = math.cos(angle) + math.sin(angle) * 1j\n",
    "    newVect = vect * rotation + a\n",
    "    return newVect\n",
    "    raise NotImplementedError()\n",
    "    \n",
    "def shrink_rotate_conj(x, a, coef=1., angle=0.):\n",
    "    # Your code here\n",
    "    vect = shrink_rotate(x, a, coef, angle)\n",
    "    newVect = vect.conjugate()\n",
    "    return newVect\n",
    "    raise NotImplementedError()\n",
    "    \n",
    "def geometric_inverse(x, a, r):\n",
    "    # Your code here\n",
    "    vect = x - a\n",
    "    newVect = (math.pow(r, 2) + 0 * 1j) / vect + a\n",
    "    return newVect\n",
    "    raise NotImplementedError()"
   ]
  },
  {
   "cell_type": "code",
   "execution_count": 129,
   "metadata": {
    "scrolled": true
   },
   "outputs": [
    {
     "name": "stdout",
     "output_type": "stream",
     "text": [
      "(-0.9999999999999998+3j)\n",
      "(-0.9999999999999998-3j)\n",
      "(9-7j)\n"
     ]
    }
   ],
   "source": [
    "a = 1. + 1. * 1j\n",
    "x = 2. + 2. * 1j\n",
    "coef = 2.\n",
    "angle = math.pi / 2\n",
    "r = 4\n",
    "print(shrink_rotate(x, a, coef, angle))\n",
    "print(shrink_rotate_conj(x, a, coef, angle))\n",
    "print(geometric_inverse(x, a, r))"
   ]
  },
  {
   "cell_type": "markdown",
   "metadata": {},
   "source": [
    "**Задание 5.4** Рассмотрим следующий процесс:\n",
    "\n",
    "```\n",
    "z = 0.5 + 0.*1j\n",
    "max_iter = 100000\n",
    "funcs = [\n",
    "    (lambda t: shrink_rotate(t, 0. + 1.*1j, coef=0.5, angle=0.)),\n",
    "    (lambda t: shrink_rotate(t, 1. + 0.*1j, coef=0.5, angle=0.)),\n",
    "    (lambda t: shrink_rotate(t, -1. + 0.*1j, coef=0.5, angle=0.))\n",
    "]\n",
    "\n",
    "for n_iter in range(max_iter):\n",
    "    n_func = np.random.choice(len(funcs))\n",
    "    z = funcs[n_func](z)\n",
    "```\n",
    "\n",
    "Запустите его и нарисуйте множество точек, получающихся на итерациях начиняя с десятой.\n",
    "\n",
    "*Указание*. Представьте квадрат $[-1,1]\\times[-1,1]$ матрицей пикселей 1000x1000. Сначала все элементы матрицы положим нулями, а на каждой итерации начиная с десятой будем присваивать единицу соответствующему пикселю этой матрицы. То, что получилось, можно нарисовать с помощью функции `plt.imshow(..., cmap='gray')`. Картинку лучше сделать побольше, предварив `imshow` вызовом `plt.figure(figsize=(20, 20))`."
   ]
  },
  {
   "cell_type": "code",
   "execution_count": 117,
   "metadata": {
    "scrolled": true
   },
   "outputs": [
    {
     "data": {
      "text/plain": [
       "<Figure size 1440x1440 with 0 Axes>"
      ]
     },
     "execution_count": 117,
     "metadata": {},
     "output_type": "execute_result"
    },
    {
     "data": {
      "image/png": "[encoded data removed]",
      "text/plain": [
       "<Figure size 432x288 with 1 Axes>"
      ]
     },
     "metadata": {
      "needs_background": "light"
     },
     "output_type": "display_data"
    },
    {
     "data": {
      "text/plain": [
       "<Figure size 1440x1440 with 0 Axes>"
      ]
     },
     "metadata": {},
     "output_type": "display_data"
    }
   ],
   "source": [
    "z = 0.5 + 0.*1j\n",
    "max_iter = 1000000\n",
    "field = np.zeros((1000, 1000))\n",
    "funcs = [\n",
    "    (lambda t: shrink_rotate(t, 0. + 1.*1j, coef=0.5, angle=0.)),\n",
    "    (lambda t: shrink_rotate(t, 1. + 0.*1j, coef=0.5, angle=0.)),\n",
    "    (lambda t: shrink_rotate(t, -1. + 0.*1j, coef=0.5, angle=0.))\n",
    "]\n",
    "for n_iter in range(max_iter):\n",
    "    n_func = np.random.choice(len(funcs))\n",
    "    z = funcs[n_func](z)\n",
    "    field[int(z.real * 1000)][int(z.imag * 1000)] = 1\n",
    "plt.imshow(field, cmap='gray')\n",
    "plt.figure(figsize=(20, 20))"
   ]
  },
  {
   "cell_type": "markdown",
   "metadata": {},
   "source": [
    "**Задание 5.5 (со звёздочкой)** Попробуйте объяснить, почему получается именно эта фигура."
   ]
  },
  {
   "cell_type": "markdown",
   "metadata": {},
   "source": [
    "---\n",
    "В данной программе мы делаем повторяющиеся операции над всё более уменьшающимся вектором, из-за чего получается объект, который состоит из одинаковых частей самого себя, что в результате даёт нам фрактал.\n",
    "\n",
    "---"
   ]
  },
  {
   "cell_type": "markdown",
   "metadata": {},
   "source": [
    "**Задание 5.6** Поэкспериментируйте с другими преобразованиями. Попробуйте найти какой-нибудь другой красиво выглядящий фрактал."
   ]
  },
  {
   "cell_type": "code",
   "execution_count": 181,
   "metadata": {
    "scrolled": false
   },
   "outputs": [
    {
     "data": {
      "text/plain": [
       "<Figure size 1440x1440 with 0 Axes>"
      ]
     },
     "execution_count": 181,
     "metadata": {},
     "output_type": "execute_result"
    },
    {
     "data": {
      "image/png": "[encoded data removed]",
      "text/plain": [
       "<Figure size 432x288 with 1 Axes>"
      ]
     },
     "metadata": {
      "needs_background": "light"
     },
     "output_type": "display_data"
    },
    {
     "data": {
      "text/plain": [
       "<Figure size 1440x1440 with 0 Axes>"
      ]
     },
     "metadata": {},
     "output_type": "display_data"
    }
   ],
   "source": [
    "z = 0.5 + 0.*1j\n",
    "max_iter = 1000000\n",
    "pi = math.pi\n",
    "field = np.zeros((1000, 1000))\n",
    "funcs = [\n",
    "    (lambda t: shrink_rotate(t, 1. + 0.*1j, coef=0.5, angle=0.)),\n",
    "    (lambda t: shrink_rotate(t, -1. + 0.*1j, coef=0.5, angle=0.)),\n",
    "    (lambda t: shrink_rotate(t, -1. + -1.*1j, coef=0.5, angle=0.))\n",
    "]\n",
    "for n_iter in range(max_iter):\n",
    "    n_func = np.random.choice(len(funcs))\n",
    "    z = funcs[n_func](z)\n",
    "    field[int(z.real * 1000)][int(z.imag * 1000)] = 1\n",
    "plt.imshow(field, cmap='gray')\n",
    "plt.figure(figsize=(20, 20))"
   ]
  },
  {
   "cell_type": "markdown",
   "metadata": {},
   "source": [
    "## Часть 6 (бонус). Метод Гаусса или обратные матрицы?"
   ]
  },
  {
   "cell_type": "markdown",
   "metadata": {},
   "source": [
    "Пусть нам дано матричное уравнение $Ax = B$, где $A$ --- матрица размера $n\\times n$, а $B$ --- матрица размера $n\\times m$ (отметим, что это уравнение можно интерпретировать как $m$ систем с векторными правыми частями и однаковыми левыми). Вообще говоря, методов решения таких уравнений очень много, но мы пока рассмотрим два из них, с которыми вы уже хорошо знакомы.\n",
    "1. Метод Гаусса;\n",
    "2. Умножение на обратную матрицу: $x = A^{-1}B$.\n",
    "\n",
    "В этом задании вы попробуете ответить на вопрос о том, какой из этих методов эффективнее. Проведите два эксперимента:\n",
    "- сравните скорости решения системы при фиксированном `m = 10` и `n`, изменяющемся в пределах от 10 до 1000, например, для `n=10, 50, 100, 200, 500, 1000` (рост числа неизвестных при фиксированном количестве правых частей);\n",
    "- сравните скорости решения системы при фиксированном `n = 100` и `m`, меняющемся от 10 до 10000, например, для `m = 10, 100, 500, 1000, 2000, 5000, 10000` (рост числа правых частей при фиксированном числе неизвестных).\n",
    "\n",
    "При проведении экспериментов не возбраняется использовать циклы `for`.\n",
    "\n",
    "Эксперименты проведите на случайных матрицах, созданных с помощью функции `numpy.random.rand`. Постройте графики времени выполнения функции от размерности (лучше в логарифмическом масштабе). Сделайте выводы (в письменном виде!) о том, какой их методов оказывается лучше в каких обстоятельствах.\n",
    "\n",
    "Чтобы всё это не казалось вам чёрной магией, найдите число операций (суммарно сложения, умножения и деления), необходимых для решения системы каждым из методов. Обратите внимания на члены суммарной степени 3 (суммарной по $m$ и $n$; члены меньшего порядка можете даже не считать). Постарайтесь объяснить полученные ранее результаты."
   ]
  },
  {
   "cell_type": "code",
   "execution_count": 143,
   "metadata": {},
   "outputs": [],
   "source": [
    "from time import time\n",
    "def Gauss(A, B):\n",
    "    time1 = time()\n",
    "    X = np.linalg.solve(A, B)\n",
    "    time2 = time()\n",
    "    return time2 - time1\n",
    "def Inv(A, B):\n",
    "    time1 = time()\n",
    "    invA = sla.inv(A)\n",
    "    X = np.dot(invA, B)\n",
    "    time2 = time()\n",
    "    return time2 - time1"
   ]
  },
  {
   "cell_type": "code",
   "execution_count": 150,
   "metadata": {},
   "outputs": [
    {
     "data": {
      "text/plain": [
       "<matplotlib.legend.Legend at 0x2474bfeaa88>"
      ]
     },
     "execution_count": 150,
     "metadata": {},
     "output_type": "execute_result"
    },
    {
     "data": {
      "image/png": "[encoded data removed]",
      "text/plain": [
       "<Figure size 432x288 with 1 Axes>"
      ]
     },
     "metadata": {
      "needs_background": "light"
     },
     "output_type": "display_data"
    }
   ],
   "source": [
    "gauss_times = []\n",
    "inv_times = []\n",
    "sizes = [10, 50, 100, 200, 500, 1000]\n",
    "m = 10\n",
    "for n in sizes:\n",
    "    A = np.random.rand(n, n)\n",
    "    B = np.random.rand(n, m)\n",
    "    gauss_times.append(Gauss(A, B))\n",
    "    inv_times.append(Inv(A, B))\n",
    "plt.plot(sizes, gauss_times, color='blue', label='Gauss')\n",
    "plt.plot(sizes, inv_times, color='red', label='Inv')\n",
    "plt.title('Gauss vs Inv, эксперимент №1')\n",
    "plt.ylabel('Time')\n",
    "plt.xlabel('Size')\n",
    "plt.legend()"
   ]
  },
  {
   "cell_type": "code",
   "execution_count": 151,
   "metadata": {},
   "outputs": [
    {
     "data": {
      "text/plain": [
       "<matplotlib.legend.Legend at 0x2474c072d88>"
      ]
     },
     "execution_count": 151,
     "metadata": {},
     "output_type": "execute_result"
    },
    {
     "data": {
      "image/png": "[encoded data removed]",
      "text/plain": [
       "<Figure size 432x288 with 1 Axes>"
      ]
     },
     "metadata": {
      "needs_background": "light"
     },
     "output_type": "display_data"
    }
   ],
   "source": [
    "gauss_times = []\n",
    "inv_times = []\n",
    "sizes = [10, 100, 500, 1000, 2000, 5000, 10000]\n",
    "n = 100\n",
    "for m in sizes:\n",
    "    A = np.random.rand(n, n)\n",
    "    B = np.random.rand(n, m)\n",
    "    gauss_times.append(Gauss(A, B))\n",
    "    inv_times.append(Inv(A, B))\n",
    "plt.plot(sizes, gauss_times, color='blue', label='Gauss')\n",
    "plt.plot(sizes, inv_times, color='red', label='Inv')\n",
    "plt.title('Gauss vs Inv, эксперимент №2')\n",
    "plt.ylabel('Time')\n",
    "plt.xlabel('Size')\n",
    "plt.legend()"
   ]
  },
  {
   "cell_type": "markdown",
   "metadata": {},
   "source": [
    "**Некоторые выводы**\n",
    "\n",
    "Можно отметить, что при росте числа неизвестных и фиксированном количестве правых частей, в скорости выигрывает решение уравнения с помощью метода Гаусса.\n",
    "\n",
    "Во втором же случае, когда растёт число правых частей при фиксированном числе неизвестных, начинает выигрывать решение с помощью нахождения обратной матрицы."
   ]
  }
 ],
 "metadata": {
  "kernelspec": {
   "display_name": "Python 3",
   "language": "python",
   "name": "python3"
  },
  "language_info": {
   "codemirror_mode": {
    "name": "ipython",
    "version": 3
   },
   "file_extension": ".py",
   "mimetype": "text/x-python",
   "name": "python",
   "nbconvert_exporter": "python",
   "pygments_lexer": "ipython3",
   "version": "3.7.4"
  }
 },
 "nbformat": 4,
 "nbformat_minor": 1
}
